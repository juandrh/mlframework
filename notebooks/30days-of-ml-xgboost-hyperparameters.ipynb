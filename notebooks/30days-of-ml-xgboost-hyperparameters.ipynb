{
 "cells": [
  {
   "cell_type": "code",
   "execution_count": 1,
   "id": "c0facd9c",
   "metadata": {
    "_kg_hide-input": true,
    "execution": {
     "iopub.execute_input": "2021-08-20T03:26:50.835989Z",
     "iopub.status.busy": "2021-08-20T03:26:50.835051Z",
     "iopub.status.idle": "2021-08-20T03:26:50.838754Z",
     "shell.execute_reply": "2021-08-20T03:26:50.839210Z",
     "shell.execute_reply.started": "2021-08-20T00:33:47.301996Z"
    },
    "papermill": {
     "duration": 0.027501,
     "end_time": "2021-08-20T03:26:50.839427",
     "exception": false,
     "start_time": "2021-08-20T03:26:50.811926",
     "status": "completed"
    },
    "tags": []
   },
   "outputs": [
    {
     "data": {
      "text/html": [
       "<style type=\"text/css\">\n",
       "\n",
       "div.h1 {\n",
       "    font-size: 32px; \n",
       "    margin-bottom:2px;\n",
       "    background-color: steelblue; \n",
       "    color: white; \n",
       "    text-align: center;\n",
       "}\n",
       "div.h2 {\n",
       "    background-color: steelblue; \n",
       "    color: white; \n",
       "    padding: 8px; \n",
       "    padding-right: 300px; \n",
       "    font-size: 24px; \n",
       "    max-width: 1500px; \n",
       "    margin-top: 50px;\n",
       "    margin-bottom:4px;\n",
       "    \n",
       "}\n",
       "div.h3 {\n",
       "    color: steelblue; \n",
       "    font-size: 20px; \n",
       "    margin-top: 4px; \n",
       "    margin-bottom:8px;\n",
       "}\n",
       "div.h4 {\n",
       "    font-size: 15px; \n",
       "    margin-top: 20px; \n",
       "    margin-bottom: 8px;\n",
       "}\n",
       "\n",
       "</style>\n"
      ],
      "text/plain": [
       "<IPython.core.display.HTML object>"
      ]
     },
     "metadata": {},
     "output_type": "display_data"
    }
   ],
   "source": [
    "%%HTML\n",
    "<style type=\"text/css\">\n",
    "\n",
    "div.h1 {\n",
    "    font-size: 32px; \n",
    "    margin-bottom:2px;\n",
    "    background-color: steelblue; \n",
    "    color: white; \n",
    "    text-align: center;\n",
    "}\n",
    "div.h2 {\n",
    "    background-color: steelblue; \n",
    "    color: white; \n",
    "    padding: 8px; \n",
    "    padding-right: 300px; \n",
    "    font-size: 24px; \n",
    "    max-width: 1500px; \n",
    "    margin-top: 50px;\n",
    "    margin-bottom:4px;\n",
    "    \n",
    "}\n",
    "div.h3 {\n",
    "    color: steelblue; \n",
    "    font-size: 20px; \n",
    "    margin-top: 4px; \n",
    "    margin-bottom:8px;\n",
    "}\n",
    "div.h4 {\n",
    "    font-size: 15px; \n",
    "    margin-top: 20px; \n",
    "    margin-bottom: 8px;\n",
    "}\n",
    "\n",
    "</style>"
   ]
  },
  {
   "cell_type": "markdown",
   "id": "420f7c6a",
   "metadata": {
    "execution": {
     "iopub.execute_input": "2021-08-18T06:36:22.209294Z",
     "iopub.status.busy": "2021-08-18T06:36:22.208771Z",
     "iopub.status.idle": "2021-08-18T06:36:22.219113Z",
     "shell.execute_reply": "2021-08-18T06:36:22.217371Z",
     "shell.execute_reply.started": "2021-08-18T06:36:22.209246Z"
    },
    "papermill": {
     "duration": 0.009788,
     "end_time": "2021-08-20T03:26:50.859455",
     "exception": false,
     "start_time": "2021-08-20T03:26:50.849667",
     "status": "completed"
    },
    "tags": []
   },
   "source": [
    "\n",
    "<div class=\"h1\">30 Days of ML- Competition</div>\n",
    "\n"
   ]
  },
  {
   "cell_type": "markdown",
   "id": "db467976",
   "metadata": {
    "papermill": {
     "duration": 0.009866,
     "end_time": "2021-08-20T03:26:50.878966",
     "exception": false,
     "start_time": "2021-08-20T03:26:50.869100",
     "status": "completed"
    },
    "tags": []
   },
   "source": [
    "This notebook is created as part  of 30 day ML challenge. This book is divided in two part EDA & kfold(https://www.kaggle.com/yogidsba/eda-kfold-30-day-ml) and Modelbuilding\n",
    "\n",
    "**About the data**\n",
    "The dataset is used for this competition is synthetic, but based on a real dataset. The original dataset deals with predicting the amount of an insurance claim. Although the features are anonymized, they have properties relating to real-world features.\n",
    "\n",
    "\n",
    "**Evaluation**\n",
    "\n",
    "Submissions are scored on the root mean squared error.\n",
    "\n",
    "\n",
    "**Special mention**\n",
    "I learned about kfold and finding mean of prediction from Abhishek Thakur YoutubeChannel. For that code you can refer his notebook or watch youtube channel.Thank you Abhisek"
   ]
  },
  {
   "cell_type": "markdown",
   "id": "e168517b",
   "metadata": {
    "papermill": {
     "duration": 0.009021,
     "end_time": "2021-08-20T03:26:50.897034",
     "exception": false,
     "start_time": "2021-08-20T03:26:50.888013",
     "status": "completed"
    },
    "tags": []
   },
   "source": [
    "<div class=\"h1\">Table of Contents</div>\n",
    "\n",
    "  - <a href='#il'>Import Libraries</a>\n",
    "  - <a href='#rd'>Read and Understand Data</a>\n",
    "  - <a href='#mb'>Model Building </a>\n",
    " "
   ]
  },
  {
   "cell_type": "markdown",
   "id": "85576073",
   "metadata": {
    "papermill": {
     "duration": 0.008761,
     "end_time": "2021-08-20T03:26:50.914872",
     "exception": false,
     "start_time": "2021-08-20T03:26:50.906111",
     "status": "completed"
    },
    "tags": []
   },
   "source": [
    "<a id='il'></a>\n",
    "<div class=\"h3\">Import Libraries</div>"
   ]
  },
  {
   "cell_type": "code",
   "execution_count": 2,
   "id": "71eaed3b",
   "metadata": {
    "execution": {
     "iopub.execute_input": "2021-08-20T03:26:50.937856Z",
     "iopub.status.busy": "2021-08-20T03:26:50.937183Z",
     "iopub.status.idle": "2021-08-20T03:26:52.271966Z",
     "shell.execute_reply": "2021-08-20T03:26:52.271498Z",
     "shell.execute_reply.started": "2021-08-20T00:33:47.332000Z"
    },
    "papermill": {
     "duration": 1.348287,
     "end_time": "2021-08-20T03:26:52.272087",
     "exception": false,
     "start_time": "2021-08-20T03:26:50.923800",
     "status": "completed"
    },
    "tags": []
   },
   "outputs": [
    {
     "name": "stdout",
     "output_type": "stream",
     "text": [
      "loaded libraries\n"
     ]
    }
   ],
   "source": [
    "# Familiar imports\n",
    "import numpy as np\n",
    "import pandas as pd\n",
    "import matplotlib.pyplot as plt\n",
    " # For ordinal encoding categorical variables, splitting data\n",
    "from sklearn.preprocessing import OrdinalEncoder\n",
    "\n",
    "from sklearn.ensemble import RandomForestRegressor\n",
    "from xgboost import XGBRegressor\n",
    "from sklearn.metrics import mean_squared_error\n",
    "print(\"loaded libraries\")"
   ]
  },
  {
   "cell_type": "markdown",
   "id": "d8893f1c",
   "metadata": {
    "execution": {
     "iopub.execute_input": "2021-08-18T06:53:14.007173Z",
     "iopub.status.busy": "2021-08-18T06:53:14.006767Z",
     "iopub.status.idle": "2021-08-18T06:53:14.012777Z",
     "shell.execute_reply": "2021-08-18T06:53:14.011625Z",
     "shell.execute_reply.started": "2021-08-18T06:53:14.007136Z"
    },
    "papermill": {
     "duration": 0.009594,
     "end_time": "2021-08-20T03:26:52.291998",
     "exception": false,
     "start_time": "2021-08-20T03:26:52.282404",
     "status": "completed"
    },
    "tags": []
   },
   "source": [
    "<a id='rd'></a>\n",
    "<div class=\"h3\">Read and Understand Data</div>\n",
    "\n",
    "Next, we'll load the train_kfold csv that was created before and has additional columns containing kfold and test data.  \n"
   ]
  },
  {
   "cell_type": "code",
   "execution_count": 3,
   "id": "44dfcfa4",
   "metadata": {
    "execution": {
     "iopub.execute_input": "2021-08-20T03:26:52.316207Z",
     "iopub.status.busy": "2021-08-20T03:26:52.315600Z",
     "iopub.status.idle": "2021-08-20T03:26:55.710984Z",
     "shell.execute_reply": "2021-08-20T03:26:55.711417Z",
     "shell.execute_reply.started": "2021-08-20T00:33:48.433792Z"
    },
    "papermill": {
     "duration": 3.410008,
     "end_time": "2021-08-20T03:26:55.711576",
     "exception": false,
     "start_time": "2021-08-20T03:26:52.301568",
     "status": "completed"
    },
    "tags": []
   },
   "outputs": [
    {
     "data": {
      "text/html": [
       "<div>\n",
       "<style scoped>\n",
       "    .dataframe tbody tr th:only-of-type {\n",
       "        vertical-align: middle;\n",
       "    }\n",
       "\n",
       "    .dataframe tbody tr th {\n",
       "        vertical-align: top;\n",
       "    }\n",
       "\n",
       "    .dataframe thead th {\n",
       "        text-align: right;\n",
       "    }\n",
       "</style>\n",
       "<table border=\"1\" class=\"dataframe\">\n",
       "  <thead>\n",
       "    <tr style=\"text-align: right;\">\n",
       "      <th></th>\n",
       "      <th>id</th>\n",
       "      <th>cat0</th>\n",
       "      <th>cat1</th>\n",
       "      <th>cat2</th>\n",
       "      <th>cat3</th>\n",
       "      <th>cat4</th>\n",
       "      <th>cat5</th>\n",
       "      <th>cat6</th>\n",
       "      <th>cat7</th>\n",
       "      <th>cat8</th>\n",
       "      <th>...</th>\n",
       "      <th>cont6</th>\n",
       "      <th>cont7</th>\n",
       "      <th>cont8</th>\n",
       "      <th>cont9</th>\n",
       "      <th>cont10</th>\n",
       "      <th>cont11</th>\n",
       "      <th>cont12</th>\n",
       "      <th>cont13</th>\n",
       "      <th>target</th>\n",
       "      <th>kfold</th>\n",
       "    </tr>\n",
       "  </thead>\n",
       "  <tbody>\n",
       "    <tr>\n",
       "      <th>0</th>\n",
       "      <td>1</td>\n",
       "      <td>B</td>\n",
       "      <td>B</td>\n",
       "      <td>B</td>\n",
       "      <td>C</td>\n",
       "      <td>B</td>\n",
       "      <td>B</td>\n",
       "      <td>A</td>\n",
       "      <td>E</td>\n",
       "      <td>C</td>\n",
       "      <td>...</td>\n",
       "      <td>0.160266</td>\n",
       "      <td>0.310921</td>\n",
       "      <td>0.389470</td>\n",
       "      <td>0.267559</td>\n",
       "      <td>0.237281</td>\n",
       "      <td>0.377873</td>\n",
       "      <td>0.322401</td>\n",
       "      <td>0.869850</td>\n",
       "      <td>8.113634</td>\n",
       "      <td>0</td>\n",
       "    </tr>\n",
       "    <tr>\n",
       "      <th>1</th>\n",
       "      <td>2</td>\n",
       "      <td>B</td>\n",
       "      <td>B</td>\n",
       "      <td>A</td>\n",
       "      <td>A</td>\n",
       "      <td>B</td>\n",
       "      <td>D</td>\n",
       "      <td>A</td>\n",
       "      <td>F</td>\n",
       "      <td>A</td>\n",
       "      <td>...</td>\n",
       "      <td>0.558922</td>\n",
       "      <td>0.516294</td>\n",
       "      <td>0.594928</td>\n",
       "      <td>0.341439</td>\n",
       "      <td>0.906013</td>\n",
       "      <td>0.921701</td>\n",
       "      <td>0.261975</td>\n",
       "      <td>0.465083</td>\n",
       "      <td>8.481233</td>\n",
       "      <td>2</td>\n",
       "    </tr>\n",
       "    <tr>\n",
       "      <th>2</th>\n",
       "      <td>3</td>\n",
       "      <td>A</td>\n",
       "      <td>A</td>\n",
       "      <td>A</td>\n",
       "      <td>C</td>\n",
       "      <td>B</td>\n",
       "      <td>D</td>\n",
       "      <td>A</td>\n",
       "      <td>D</td>\n",
       "      <td>A</td>\n",
       "      <td>...</td>\n",
       "      <td>0.375348</td>\n",
       "      <td>0.902567</td>\n",
       "      <td>0.555205</td>\n",
       "      <td>0.843531</td>\n",
       "      <td>0.748809</td>\n",
       "      <td>0.620126</td>\n",
       "      <td>0.541474</td>\n",
       "      <td>0.763846</td>\n",
       "      <td>8.364351</td>\n",
       "      <td>4</td>\n",
       "    </tr>\n",
       "    <tr>\n",
       "      <th>3</th>\n",
       "      <td>4</td>\n",
       "      <td>B</td>\n",
       "      <td>B</td>\n",
       "      <td>A</td>\n",
       "      <td>C</td>\n",
       "      <td>B</td>\n",
       "      <td>D</td>\n",
       "      <td>A</td>\n",
       "      <td>E</td>\n",
       "      <td>C</td>\n",
       "      <td>...</td>\n",
       "      <td>0.239061</td>\n",
       "      <td>0.732948</td>\n",
       "      <td>0.679618</td>\n",
       "      <td>0.574844</td>\n",
       "      <td>0.346010</td>\n",
       "      <td>0.714610</td>\n",
       "      <td>0.540150</td>\n",
       "      <td>0.280682</td>\n",
       "      <td>8.049253</td>\n",
       "      <td>3</td>\n",
       "    </tr>\n",
       "    <tr>\n",
       "      <th>4</th>\n",
       "      <td>6</td>\n",
       "      <td>A</td>\n",
       "      <td>A</td>\n",
       "      <td>A</td>\n",
       "      <td>C</td>\n",
       "      <td>B</td>\n",
       "      <td>D</td>\n",
       "      <td>A</td>\n",
       "      <td>E</td>\n",
       "      <td>A</td>\n",
       "      <td>...</td>\n",
       "      <td>0.420667</td>\n",
       "      <td>0.648182</td>\n",
       "      <td>0.684501</td>\n",
       "      <td>0.956692</td>\n",
       "      <td>1.000773</td>\n",
       "      <td>0.776742</td>\n",
       "      <td>0.625849</td>\n",
       "      <td>0.250823</td>\n",
       "      <td>7.972260</td>\n",
       "      <td>1</td>\n",
       "    </tr>\n",
       "  </tbody>\n",
       "</table>\n",
       "<p>5 rows × 27 columns</p>\n",
       "</div>"
      ],
      "text/plain": [
       "   id cat0 cat1 cat2 cat3 cat4 cat5 cat6 cat7 cat8  ...     cont6     cont7  \\\n",
       "0   1    B    B    B    C    B    B    A    E    C  ...  0.160266  0.310921   \n",
       "1   2    B    B    A    A    B    D    A    F    A  ...  0.558922  0.516294   \n",
       "2   3    A    A    A    C    B    D    A    D    A  ...  0.375348  0.902567   \n",
       "3   4    B    B    A    C    B    D    A    E    C  ...  0.239061  0.732948   \n",
       "4   6    A    A    A    C    B    D    A    E    A  ...  0.420667  0.648182   \n",
       "\n",
       "      cont8     cont9    cont10    cont11    cont12    cont13    target  kfold  \n",
       "0  0.389470  0.267559  0.237281  0.377873  0.322401  0.869850  8.113634      0  \n",
       "1  0.594928  0.341439  0.906013  0.921701  0.261975  0.465083  8.481233      2  \n",
       "2  0.555205  0.843531  0.748809  0.620126  0.541474  0.763846  8.364351      4  \n",
       "3  0.679618  0.574844  0.346010  0.714610  0.540150  0.280682  8.049253      3  \n",
       "4  0.684501  0.956692  1.000773  0.776742  0.625849  0.250823  7.972260      1  \n",
       "\n",
       "[5 rows x 27 columns]"
      ]
     },
     "execution_count": 3,
     "metadata": {},
     "output_type": "execute_result"
    }
   ],
   "source": [
    "# Load the training data\n",
    "train = pd.read_csv(\"../input/30days-folds/train_folds.csv\")\n",
    "test = pd.read_csv(\"../input/30-days-of-ml/test.csv\")\n",
    "sample_submission = pd.read_csv(\"/kaggle/input/30-days-of-ml/sample_submission.csv\")\n",
    "# Preview the data\n",
    "train.head()"
   ]
  },
  {
   "cell_type": "markdown",
   "id": "b8597b16",
   "metadata": {
    "papermill": {
     "duration": 0.011231,
     "end_time": "2021-08-20T03:26:55.733379",
     "exception": false,
     "start_time": "2021-08-20T03:26:55.722148",
     "status": "completed"
    },
    "tags": []
   },
   "source": [
    "There are 10 categorical variables which we will have to encode "
   ]
  },
  {
   "cell_type": "code",
   "execution_count": 4,
   "id": "77b8f8ae",
   "metadata": {
    "execution": {
     "iopub.execute_input": "2021-08-20T03:26:55.757492Z",
     "iopub.status.busy": "2021-08-20T03:26:55.756961Z",
     "iopub.status.idle": "2021-08-20T03:26:55.762262Z",
     "shell.execute_reply": "2021-08-20T03:26:55.761868Z",
     "shell.execute_reply.started": "2021-08-20T00:33:52.114142Z"
    },
    "papermill": {
     "duration": 0.019156,
     "end_time": "2021-08-20T03:26:55.762383",
     "exception": false,
     "start_time": "2021-08-20T03:26:55.743227",
     "status": "completed"
    },
    "tags": []
   },
   "outputs": [
    {
     "data": {
      "text/plain": [
       "['cat0',\n",
       " 'cat1',\n",
       " 'cat2',\n",
       " 'cat3',\n",
       " 'cat4',\n",
       " 'cat5',\n",
       " 'cat6',\n",
       " 'cat7',\n",
       " 'cat8',\n",
       " 'cat9']"
      ]
     },
     "execution_count": 4,
     "metadata": {},
     "output_type": "execute_result"
    }
   ],
   "source": [
    "#creating a list of categorical variables\n",
    "#cat_col=train.select_dtypes(include='object').columns.to_list()\n",
    "cat_col = [col for col in train.columns if 'cat' in col]\n",
    "\n",
    "cat_col"
   ]
  },
  {
   "cell_type": "code",
   "execution_count": 5,
   "id": "f9e58272",
   "metadata": {
    "execution": {
     "iopub.execute_input": "2021-08-20T03:26:55.817865Z",
     "iopub.status.busy": "2021-08-20T03:26:55.816175Z",
     "iopub.status.idle": "2021-08-20T03:26:55.818500Z",
     "shell.execute_reply": "2021-08-20T03:26:55.818904Z",
     "shell.execute_reply.started": "2021-08-20T00:33:52.124811Z"
    },
    "papermill": {
     "duration": 0.046735,
     "end_time": "2021-08-20T03:26:55.819046",
     "exception": false,
     "start_time": "2021-08-20T03:26:55.772311",
     "status": "completed"
    },
    "tags": []
   },
   "outputs": [],
   "source": [
    "#get only usefulfeatures\n",
    "useful_features=[col for col in train.columns if col not in ['id','target','kfold']]\n",
    "\n",
    "# List of categorical columns\n",
    "\n",
    "test=test[useful_features]\n",
    "\n",
    "\n",
    "# for col in cat_col:\n",
    "#     train[f\"cont_{col}\"] = train.groupby(col)[col].transform(\"count\")\n",
    "#     test[f\"cont_{col}\"] = test.groupby(col)[col].transform(\"count\")\n",
    "\n",
    "    \n",
    "# useful_features = [c for c in train.columns if c not in (\"id\", \"target\", \"kfold\")]\n",
    "# cat_col = [col for col in useful_features if col.startswith(\"cat\")]"
   ]
  },
  {
   "cell_type": "markdown",
   "id": "4458e8e5",
   "metadata": {
    "papermill": {
     "duration": 0.009993,
     "end_time": "2021-08-20T03:26:55.839378",
     "exception": false,
     "start_time": "2021-08-20T03:26:55.829385",
     "status": "completed"
    },
    "tags": []
   },
   "source": [
    "<a id='xg'></a>\n",
    "<div class=\"h3\">Understanding Hyperparameters for XGboost</div>\n",
    "\n",
    "- **njobs**\n",
    "    - To make use of all cpu\n",
    "- **tree_method='gpu_hist'**\n",
    "    - To use Gpu and runs faster\n",
    "- **n_estimators**\n",
    "    - The number of sequential trees to be modeled.\n",
    "    - Though XGB is fairly robust at higher number of trees but it can still overfit at a         point. Hence, this should be tuned using CV for a particular learning rate.\n",
    "- **learning_rate**\n",
    "    - This determines the impact of each tree on the final outcome  XGB works by starting with an initial estimate which is updated using the output of each tree. The learning parameter controls the magnitude of this change in the estimates.\n",
    "    - Lower values are generally preferred as they make the model robust to the specific characteristics of tree and thus allowing it to generalize well.\n",
    "    - Lower values would require higher number of trees to model all the relations and will be computationally expensive.\n",
    "\n",
    "- **colsample_bytree**\n",
    "    -  Denotes the fraction of columns to be randomly  samples for each tree.\n",
    "    -  Typical values: 0.5-1\n",
    "- **reg_alpha**\n",
    "    - L1 regularization term on weight (analogous to Lasso regression)\n",
    "    - Can be used in case of very high dimensionality so that the algorithm runs faster           when implemented\n",
    "\n",
    "- **subsample**\n",
    "    -  Denotes the fraction of observations to be randomly samples for each tree.\n",
    "    - Lower values make the algorithm more conservative and prevents overfitting but too        small values might lead to under-fitting.\n",
    "    - Typical values: 0.5-1\n",
    "\n",
    "- **max_depth**\n",
    "     - Used to control over-fitting as higher depth will allow model to learn relations          very  specific to a particular sample.\n",
    "    - Should be tuned using CV.\n",
    "    - Typical values: 3-10\n",
    "- **gamma**\n",
    "    - A node is split only when the resulting split gives a positive reduction in the loss       function. \n",
    "    - Gamma specifies the minimum loss reduction required to make a split.\n",
    "    - Makes the algorithm conservative. The values can vary depending on the loss function      and should be tuned.\n",
    "    \n",
    "- **eval_metric**\n",
    "    - The metric to be used for validation data.\n",
    "    - The default values are rmse for regression and error for classification.\n",
    "    - Typical values are:\n",
    "        - rmse – root mean square error\n",
    "        - mae – mean absolute error\n",
    "        - logloss – negative log-likelihood\n",
    "        - error – Binary classification error rate (0.5 threshold)\n",
    "        - merror – Multiclass classification error rate\n",
    "        - mlogloss – Multiclass logloss\n",
    "        - auc: Area under the curve"
   ]
  },
  {
   "cell_type": "code",
   "execution_count": 6,
   "id": "64863107",
   "metadata": {
    "execution": {
     "iopub.execute_input": "2021-08-20T03:26:55.868435Z",
     "iopub.status.busy": "2021-08-20T03:26:55.867711Z",
     "iopub.status.idle": "2021-08-20T03:29:59.918278Z",
     "shell.execute_reply": "2021-08-20T03:29:59.918721Z",
     "shell.execute_reply.started": "2021-08-20T00:33:52.159009Z"
    },
    "papermill": {
     "duration": 184.069442,
     "end_time": "2021-08-20T03:29:59.918880",
     "exception": false,
     "start_time": "2021-08-20T03:26:55.849438",
     "status": "completed"
    },
    "tags": []
   },
   "outputs": [
    {
     "name": "stdout",
     "output_type": "stream",
     "text": [
      "0 0.718835963243177\n",
      "1 0.7184024786516624\n",
      "2 0.7204346624160692\n",
      "3 0.7203607457429835\n",
      "4 0.7192133316185308\n"
     ]
    }
   ],
   "source": [
    "\n",
    "final_pred=[] #save your predictions in this list\n",
    "for fold in range(5):\n",
    "    \n",
    "    xtrain=train[train.kfold!=fold].reset_index(drop=True) # get kfold which is not equal to fold\n",
    "    xvalid=train[train.kfold==fold].reset_index(drop=True) # K is equal to fold\n",
    "    \n",
    "    ytrain=xtrain.target\n",
    "    yvalid=xvalid.target\n",
    "    xtest= test.copy()\n",
    " \n",
    "    xtrain=xtrain[useful_features]\n",
    "    xvalid=xvalid[useful_features]\n",
    "\n",
    "    ordinal_encoder = OrdinalEncoder()\n",
    "    xtrain[cat_col] = ordinal_encoder.fit_transform(xtrain[cat_col])\n",
    "    xvalid[cat_col] = ordinal_encoder.transform(xvalid[cat_col])\n",
    "    xtest[cat_col] = ordinal_encoder.transform(xtest[cat_col])\n",
    "    \n",
    "    model = XGBRegressor(random_state=fold, \n",
    "                         n_jobs=4,\n",
    "                         n_estimators= 5000,\n",
    "                         tree_method='gpu_hist',\n",
    "                         learning_rate= 0.01,\n",
    "                         subsample= 0.9,\n",
    "                         max_depth= 5,\n",
    "                         colsample_bytree= 0.5,\n",
    "                         reg_alpha = 30,eval_metric='rmse')\n",
    "    model.fit(xtrain, ytrain)\n",
    "    preds_valid = model.predict(xvalid)\n",
    "    test_preds = model.predict(xtest)\n",
    "    final_pred.append(test_preds)\n",
    "    print(fold, mean_squared_error(yvalid, preds_valid, squared=False))\n",
    "    \n"
   ]
  },
  {
   "cell_type": "code",
   "execution_count": 7,
   "id": "cfa905e2",
   "metadata": {
    "execution": {
     "iopub.execute_input": "2021-08-20T03:29:59.947866Z",
     "iopub.status.busy": "2021-08-20T03:29:59.946992Z",
     "iopub.status.idle": "2021-08-20T03:30:00.430409Z",
     "shell.execute_reply": "2021-08-20T03:30:00.429907Z",
     "shell.execute_reply.started": "2021-08-20T00:36:56.631240Z"
    },
    "papermill": {
     "duration": 0.499663,
     "end_time": "2021-08-20T03:30:00.430532",
     "exception": false,
     "start_time": "2021-08-20T03:29:59.930869",
     "status": "completed"
    },
    "tags": []
   },
   "outputs": [],
   "source": [
    "\n",
    "#get the mean of all the predictions.\n",
    "preds = np.mean(np.column_stack(final_pred), axis=1)\n",
    "sample_submission.target = preds\n",
    "sample_submission.to_csv(\"submission.csv\", index=False)"
   ]
  }
 ],
 "metadata": {
  "kernelspec": {
   "display_name": "Python 3",
   "language": "python",
   "name": "python3"
  },
  "language_info": {
   "codemirror_mode": {
    "name": "ipython",
    "version": 3
   },
   "file_extension": ".py",
   "mimetype": "text/x-python",
   "name": "python",
   "nbconvert_exporter": "python",
   "pygments_lexer": "ipython3",
   "version": "3.7.10"
  },
  "papermill": {
   "default_parameters": {},
   "duration": 197.704962,
   "end_time": "2021-08-20T03:30:01.823080",
   "environment_variables": {},
   "exception": null,
   "input_path": "__notebook__.ipynb",
   "output_path": "__notebook__.ipynb",
   "parameters": {},
   "start_time": "2021-08-20T03:26:44.118118",
   "version": "2.3.3"
  }
 },
 "nbformat": 4,
 "nbformat_minor": 5
}
